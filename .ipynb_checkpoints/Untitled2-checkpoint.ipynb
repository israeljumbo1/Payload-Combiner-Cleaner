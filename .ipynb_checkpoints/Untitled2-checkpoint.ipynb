{
 "cells": [
  {
   "cell_type": "code",
   "execution_count": null,
   "id": "e0a791a7",
   "metadata": {},
   "outputs": [],
   "source": [
    "#This will combine csv file from a file list\n",
    "#File list from a pandas data frame\n",
    "#convert Pandas data frame of file path/directory into list (to_list)\n",
    "\n",
    "import pandas as pd \n",
    "\n",
    "def pld_combiner(pandas_file_list)\n",
    "    combine_data = []\n",
    "    for y in filtered_file_list:  \n",
    "        ff_1 = str(y[0]).replace('[','') #pn_1 = single path name\n",
    "        ff_1 = ff_1.replace(']','') # string moification\n",
    "        ff_1 = ff_1.replace(\"'\",\"\") # string moification\n",
    "        sing_data = pd.read_csv(filepath_or_buffer = ff_1, skiprows = 23, engine = \"c\")\n",
    "        sing_data = pd.DataFrame(sing_data)\n",
    "        sing_data = sing_data.drop([0,1])\n",
    "        machine_serial = pd.read_csv(filepath_or_buffer = ff_1, skiprows = 3, nrows = 1)\n",
    "        machine_serial = machine_serial.iloc[0].to_list()[1]\n",
    "        sing_data[\"Machine Serial\"] = machine_serial\n",
    "        combine_data.append(sing_data)\n",
    "    combined = pd.concat(combine_data)\n",
    "    combined2 = combined.drop_duplicates()\n",
    "    #combined1 = combined.drop_duplicates(subset = [\"Calendar\"] , keep = \"last\")\n",
    "    #combined1[\"Calendar\"].duplicated().sum()\n",
    "    return combined2"
   ]
  }
 ],
 "metadata": {
  "kernelspec": {
   "display_name": "Python 3 (ipykernel)",
   "language": "python",
   "name": "python3"
  },
  "language_info": {
   "codemirror_mode": {
    "name": "ipython",
    "version": 3
   },
   "file_extension": ".py",
   "mimetype": "text/x-python",
   "name": "python",
   "nbconvert_exporter": "python",
   "pygments_lexer": "ipython3",
   "version": "3.10.7"
  }
 },
 "nbformat": 4,
 "nbformat_minor": 5
}
