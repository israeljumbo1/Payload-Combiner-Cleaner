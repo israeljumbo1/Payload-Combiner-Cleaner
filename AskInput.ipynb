{
 "cells": [
  {
   "cell_type": "code",
   "execution_count": 1,
   "id": "de377832-7e53-4760-a42f-0a213daf0e03",
   "metadata": {},
   "outputs": [],
   "source": [
    "class AskInput:\n",
    "    def __init__(self, inputlength, mes1, mes2, mes3 ):\n",
    "        self.mes1 = mes1\n",
    "        self.mes2 = mes2\n",
    "        self.inputlength = inputlength\n",
    "        self.mes3 = mes3\n",
    "    def input_num(self):\n",
    "        state_input = False\n",
    "        while not state_input:\n",
    "            input_fig = input(self.mes1)\n",
    "            if len(input_fig) != self.inputlength:\n",
    "                print(self.mes2)\n",
    "            else:\n",
    "                try:\n",
    "                    date = int(input_fig)\n",
    "                except:\n",
    "                    ValueError = print(self.mes3)\n",
    "                else:\n",
    "                    return input_fig\n"
   ]
  },
  {
   "cell_type": "code",
   "execution_count": null,
   "id": "2113b0a1-60ac-4b60-ac13-85b3ffda63fe",
   "metadata": {},
   "outputs": [],
   "source": []
  }
 ],
 "metadata": {
  "kernelspec": {
   "display_name": "Python 3 (ipykernel)",
   "language": "python",
   "name": "python3"
  },
  "language_info": {
   "codemirror_mode": {
    "name": "ipython",
    "version": 3
   },
   "file_extension": ".py",
   "mimetype": "text/x-python",
   "name": "python",
   "nbconvert_exporter": "python",
   "pygments_lexer": "ipython3",
   "version": "3.10.7"
  }
 },
 "nbformat": 4,
 "nbformat_minor": 5
}
