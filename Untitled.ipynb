{
 "cells": [
  {
   "cell_type": "code",
   "execution_count": 1,
   "id": "b9c7646a",
   "metadata": {},
   "outputs": [],
   "source": [
    "import pandas as pd\n",
    "\n",
    "def pld_formatter(combined):\n",
    "    dcombined = combined.convert_dtypes()\n",
    "    columns_comb = dcombined.columns.to_list()\n",
    "    columns_comb1 = columns_comb[2:18]\n",
    "    columns_comb2 = columns_comb[2:10]\n",
    "    for x in columns_comb1:\n",
    "        dcombined[x] = dcombined[x].astype(float)\n",
    "    for a in columns_comb2:\n",
    "        dcombined[a] = dcombined[a]/10\n",
    "    dcombined\n",
    "    x = dcombined[\"Calendar\"].str.split(\"|\", expand = True)\n",
    "    x = x.astype(int)\n",
    "    x = x[0]+x[1]+x[2]\n",
    "    dcombined[\"Calendar\"] = x/(60*60*24) + 25569\n",
    "    dcombined = dcombined.drop([\"Axis Item\"], axis = 1)\n",
    "    return dcombined"
   ]
  },
  {
   "cell_type": "code",
   "execution_count": null,
   "id": "e92621f7",
   "metadata": {},
   "outputs": [],
   "source": []
  }
 ],
 "metadata": {
  "kernelspec": {
   "display_name": "Python 3 (ipykernel)",
   "language": "python",
   "name": "python3"
  },
  "language_info": {
   "codemirror_mode": {
    "name": "ipython",
    "version": 3
   },
   "file_extension": ".py",
   "mimetype": "text/x-python",
   "name": "python",
   "nbconvert_exporter": "python",
   "pygments_lexer": "ipython3",
   "version": "3.10.7"
  }
 },
 "nbformat": 4,
 "nbformat_minor": 5
}
