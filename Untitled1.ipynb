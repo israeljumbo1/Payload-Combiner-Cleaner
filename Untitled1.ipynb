{
 "cells": [
  {
   "cell_type": "code",
   "execution_count": 1,
   "id": "4883a7f3",
   "metadata": {},
   "outputs": [],
   "source": [
    "def math(a,b):\n",
    "    sum = a + b\n",
    "    sub = a - b\n",
    "    multiple = a*b\n",
    "    return sum, sub, multiple"
   ]
  },
  {
   "cell_type": "code",
   "execution_count": 2,
   "id": "c188159f",
   "metadata": {},
   "outputs": [
    {
     "data": {
      "text/plain": [
       "(3, -1, 2)"
      ]
     },
     "execution_count": 2,
     "metadata": {},
     "output_type": "execute_result"
    }
   ],
   "source": [
    "math(1,2)"
   ]
  },
  {
   "cell_type": "code",
   "execution_count": null,
   "id": "3c82d115",
   "metadata": {},
   "outputs": [],
   "source": []
  }
 ],
 "metadata": {
  "kernelspec": {
   "display_name": "Python 3 (ipykernel)",
   "language": "python",
   "name": "python3"
  },
  "language_info": {
   "codemirror_mode": {
    "name": "ipython",
    "version": 3
   },
   "file_extension": ".py",
   "mimetype": "text/x-python",
   "name": "python",
   "nbconvert_exporter": "python",
   "pygments_lexer": "ipython3",
   "version": "3.10.7"
  }
 },
 "nbformat": 4,
 "nbformat_minor": 5
}
